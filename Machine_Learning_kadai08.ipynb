{
  "nbformat": 4,
  "nbformat_minor": 0,
  "metadata": {
    "colab": {
      "provenance": []
    },
    "kernelspec": {
      "name": "python3",
      "display_name": "Python 3"
    },
    "language_info": {
      "name": "python"
    }
  },
  "cells": [
    {
      "cell_type": "code",
      "execution_count": 5,
      "metadata": {
        "colab": {
          "base_uri": "https://localhost:8080/"
        },
        "id": "ZNBw_oD7LeCM",
        "outputId": "49a0d88a-2bb9-4bef-c60b-40ea17170b1a"
      },
      "outputs": [
        {
          "output_type": "execute_result",
          "data": {
            "text/plain": [
              "0.9629629629629629"
            ]
          },
          "metadata": {},
          "execution_count": 5
        }
      ],
      "source": [
        "from sklearn.datasets import load_wine # サンプルデータの取得\n",
        "from sklearn.model_selection import train_test_split # サンプルデータの分割\n",
        "from sklearn.ensemble import RandomForestClassifier # 分類問題の場合\n",
        "from sklearn.metrics import accuracy_score # 正解率の出力\n",
        "\n",
        "# インポートしたload_wine関数をdatasetに代入\n",
        "dataset = load_wine()\n",
        "\n",
        "# 説明変数（ワインの成分）を変数Xに、目的変数（ワインの種別）を変数yに代入\n",
        "x = dataset.data\n",
        "y = dataset.target\n",
        "# random_stateを指定＆変数に代入\n",
        "x_train, x_test, y_train, y_test = train_test_split(x, y, test_size=0.3, random_state=5)\n",
        "\n",
        "# 予測モデルのインスタンス化\n",
        "model = RandomForestClassifier(random_state=3)\n",
        "\n",
        "# 予測モデルの学習\n",
        "model.fit(x_train, y_train)\n",
        "\n",
        "# 予測モデルの評価\n",
        "y_pred = model.predict(x_test)\n",
        "accuracy_score(y_test, y_pred)\n"
      ]
    }
  ]
}