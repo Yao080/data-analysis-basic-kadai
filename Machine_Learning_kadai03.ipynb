{
  "nbformat": 4,
  "nbformat_minor": 0,
  "metadata": {
    "colab": {
      "provenance": []
    },
    "kernelspec": {
      "name": "python3",
      "display_name": "Python 3"
    },
    "language_info": {
      "name": "python"
    }
  },
  "cells": [
    {
      "cell_type": "code",
      "execution_count": 31,
      "metadata": {
        "colab": {
          "base_uri": "https://localhost:8080/"
        },
        "id": "sphWdy2wjXPS",
        "outputId": "67c09394-0924-4796-a593-770af76b587c"
      },
      "outputs": [
        {
          "output_type": "stream",
          "name": "stdout",
          "text": [
            "行列の積の計算結果は以下の通りとなります。\n",
            "[[ 4  5  6  7]\n",
            " [12 17 22 27]\n",
            " [20 29 38 47]]\n",
            "最大値は47です。\n"
          ]
        }
      ],
      "source": [
        "# Numpyをインポート\n",
        "import numpy as np\n",
        "\n",
        "# AとBの行列を格納する多次元配列\n",
        "A = np.array([[0, 1], [2, 3], [4, 5]])\n",
        "B = np.array([[0, 1, 2, 3], [4, 5, 6, 7]])\n",
        "# 行列の積の計算をするコード\n",
        "total = np.dot(A, B)\n",
        "\n",
        "# 行列の積の計算結果を表示\n",
        "print(\"行列の積の計算結果は以下の通りとなります。\")\n",
        "print(total)\n",
        "# 行列の要素の最大値\n",
        "print(f\"最大値は{total.max()}です。\")\n"
      ]
    }
  ]
}